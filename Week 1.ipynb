{
    "cells": [
        {
            "cell_type": "markdown",
            "metadata": {
                "collapsed": true
            },
            "source": "Nowadays, due to the Covid19 many people in Hong Kong choose to work from home. However, the situation in their flat may not allow them to have a proper space for work. They may go to the cafe near their home to work. As a result, the demand for cafe increases in each districts of Hong Kong. So, the problem is where should I open a new cafe to fill this gap? One of the solutions would be to calculate cafe per population in each districts and as Hong Kong people usually go to the cafe near home. "
        },
        {
            "cell_type": "markdown",
            "metadata": {},
            "source": "The following the data would be used in the proejct.\n\n1. The number of cafe in each districts\n\n2. The location of each cafe \n\n3. The population in each Hong Kong districts"
        }
    ],
    "metadata": {
        "kernelspec": {
            "display_name": "Python 3.7",
            "language": "python",
            "name": "python3"
        },
        "language_info": {
            "codemirror_mode": {
                "name": "ipython",
                "version": 3
            },
            "file_extension": ".py",
            "mimetype": "text/x-python",
            "name": "python",
            "nbconvert_exporter": "python",
            "pygments_lexer": "ipython3",
            "version": "3.7.10"
        }
    },
    "nbformat": 4,
    "nbformat_minor": 1
}